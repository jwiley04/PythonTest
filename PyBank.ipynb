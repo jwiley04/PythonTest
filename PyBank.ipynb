{
 "cells": [
  {
   "cell_type": "code",
   "execution_count": 3,
   "metadata": {},
   "outputs": [],
   "source": [
    "import os\n",
    "import csv"
   ]
  },
  {
   "cell_type": "code",
   "execution_count": 5,
   "metadata": {},
   "outputs": [
    {
     "name": "stdout",
     "output_type": "stream",
     "text": [
      "Financial Analysis\n",
      "------------------------\n",
      "Total Months:86\n",
      "Total: $22564198\n",
      "Average Change: -8311.11\n",
      "Greatest Increase in Profits: Aug-16 ($1862002)\n",
      "Greatest Decrease in Profits: Feb-14 ($-1825558)\n"
     ]
    }
   ],
   "source": [
    "file = os.path.join('budget_data.csv')\n",
    "with open('budget_data.csv','r') as csvfile:\n",
    "    csvreader = csv.reader(csvfile, delimiter = ',')\n",
    "    header = next(csvreader)\n",
    "   \n",
    "\n",
    "    months = []\n",
    "    profit = []\n",
    "    profit_change = []\n",
    "    \n",
    "                      \n",
    "   \n",
    "    for row in csvreader:\n",
    "        months.append(row[0])\n",
    "        profit.append(int(row[1]))\n",
    "    for i in range(len(profit)-1):\n",
    "        profit_change.append(profit[i+1]-profit[i])\n",
    "                      \n",
    "\n",
    "increase = max(profit_change)\n",
    "decrease = min(profit_change)\n",
    "\n",
    "\n",
    "month_increase = profit_change.index(max(profit_change))+1\n",
    "month_decrease = profit_change.index(min(profit_change))+1\n",
    "\n",
    "\n",
    "print(\"Financial Analysis\")\n",
    "print(\"------------------------\")\n",
    "print(f\"Total Months:{len(months)}\")\n",
    "print(f\"Total: ${sum(profit)}\")\n",
    "print(f\"Average Change: {round(sum(profit_change)/len(profit_change),2)}\")\n",
    "print(f\"Greatest Increase in Profits: {months[month_increase]} (${(str(increase))})\")\n",
    "print(f\"Greatest Decrease in Profits: {months[month_decrease]} (${(str(decrease))})\")      \n",
    "\n",
    "output = os.path.join(\".\", 'output.txt')\n",
    "with open(output,\"w\") as new:\n",
    "    new.write(\"Financial Analysis\")\n",
    "    new.write(\"\\n\")\n",
    "    new.write(\"------------------------\")\n",
    "    new.write(\"\\n\")\n",
    "    new.write(f\"Total Months:{len(months)}\")\n",
    "    new.write(\"\\n\")\n",
    "    new.write(f\"Total: ${sum(profit)}\")\n",
    "    new.write(\"\\n\")\n",
    "    new.write(f\"Average Change: {round(sum(profit_change)/len(profit_change),2)}\")\n",
    "    new.write(\"\\n\")\n",
    "    new.write(f\"Greatest Increase in Profits: {months[month_increase]} (${(str(increase))})\")\n",
    "    new.write(\"\\n\")\n",
    "    new.write(f\"Greatest Decrease in Profits: {months[month_decrease]} (${(str(decrease))})\")"
   ]
  },
  {
   "cell_type": "code",
   "execution_count": null,
   "metadata": {},
   "outputs": [],
   "source": []
  }
 ],
 "metadata": {
  "kernelspec": {
   "display_name": "Python 3 (ipykernel)",
   "language": "python",
   "name": "python3"
  },
  "language_info": {
   "codemirror_mode": {
    "name": "ipython",
    "version": 3
   },
   "file_extension": ".py",
   "mimetype": "text/x-python",
   "name": "python",
   "nbconvert_exporter": "python",
   "pygments_lexer": "ipython3",
   "version": "3.7.7"
  }
 },
 "nbformat": 4,
 "nbformat_minor": 2
}
