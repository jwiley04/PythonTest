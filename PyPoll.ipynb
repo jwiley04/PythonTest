{
 "cells": [
  {
   "cell_type": "code",
   "execution_count": 5,
   "metadata": {},
   "outputs": [],
   "source": [
    "import os\n",
    "import csv"
   ]
  },
  {
   "cell_type": "code",
   "execution_count": 6,
   "metadata": {},
   "outputs": [
    {
     "name": "stdout",
     "output_type": "stream",
     "text": [
      "Election Results \n",
      "------------------------- \n",
      "Total Votes: 369711\n",
      "-------------------------\n",
      "Charles Casper Stockham: 23.049%  (85213)\n",
      "Diana DeGette: 73.812%  (272892)\n",
      "Raymon Anthony Doane: 3.139%  (11606)\n",
      "------------------------- \n",
      "Winner: Diana DeGette\n",
      "-------------------------\n"
     ]
    }
   ],
   "source": [
    "\n",
    "file = os.path.join('election_data.csv')\n",
    "\n",
    "  \n",
    "poll = {}\n",
    "total_votes = 0\n",
    "\n",
    "\n",
    "with open(file, 'r') as csvfile:\n",
    "    csvread = csv.reader(csvfile)\n",
    "    \n",
    "    next(csvread, None)\n",
    "\n",
    "   \n",
    "\n",
    "    for row in csvread:\n",
    "        total_votes += 1\n",
    "        if row[2] in poll.keys():\n",
    "            poll[row[2]] = poll[row[2]] + 1\n",
    "        else:\n",
    "            poll[row[2]] = 1\n",
    " \n",
    "\n",
    "candidates = []\n",
    "votes = []\n",
    "\n",
    "\n",
    "for key, value in poll.items():\n",
    "    candidates.append(key)\n",
    "    votes.append(value)\n",
    "\n",
    "\n",
    "vote_percentage = []\n",
    "for n in votes:\n",
    "    vote_percentage.append(round(n/total_votes*100, 3))\n",
    "\n",
    "\n",
    "combined_data = list(zip(candidates, votes, vote_percentage))\n",
    "\n",
    "\n",
    "winner_order = []\n",
    "\n",
    "for name in combined_data:\n",
    "    if max(votes) == name[1]:\n",
    "        winner_order.append(name[0])\n",
    "\n",
    "\n",
    "first_place = winner_order[0]\n",
    "\n",
    "\n",
    "if len(winner_order) > 1:\n",
    "    for w in range(1, len(winner_order)):\n",
    "        first_place = first_place + \", \" + winner_order[w]\n",
    "\n",
    "\n",
    "output_file = os.path.join('election_results.txt')\n",
    "\n",
    "with open(output_file, 'w') as txtfile:\n",
    "    txtfile.writelines('Election Results \\n------------------------- \\nTotal Votes: ' + str(total_votes) + \n",
    "      '\\n-------------------------\\n')\n",
    "    for entry in combined_data:\n",
    "        txtfile.writelines(entry[0] + \": \" + str(entry[2]) +'%  (' + str(entry[1]) + ')\\n')\n",
    "    txtfile.writelines('------------------------- \\nWinner: ' + first_place + '\\n-------------------------')\n",
    "\n",
    "\n",
    "with open(output_file, 'r') as readfile:\n",
    "    print(readfile.read())"
   ]
  },
  {
   "cell_type": "code",
   "execution_count": null,
   "metadata": {},
   "outputs": [],
   "source": []
  },
  {
   "cell_type": "code",
   "execution_count": null,
   "metadata": {},
   "outputs": [],
   "source": []
  }
 ],
 "metadata": {
  "kernelspec": {
   "display_name": "Python 3 (ipykernel)",
   "language": "python",
   "name": "python3"
  },
  "language_info": {
   "codemirror_mode": {
    "name": "ipython",
    "version": 3
   },
   "file_extension": ".py",
   "mimetype": "text/x-python",
   "name": "python",
   "nbconvert_exporter": "python",
   "pygments_lexer": "ipython3",
   "version": "3.7.7"
  }
 },
 "nbformat": 4,
 "nbformat_minor": 2
}
